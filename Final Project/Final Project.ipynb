{
 "cells": [
  {
   "cell_type": "code",
   "execution_count": 13,
   "metadata": {},
   "outputs": [],
   "source": [
    "## The imports that I used for this project\n",
    "import numpy as np\n",
    "from datascience import *\n",
    "import math\n",
    "import pandas as pd\n",
    "%matplotlib inline\n",
    "import matplotlib.pyplot as plots"
   ]
  },
  {
   "cell_type": "markdown",
   "metadata": {},
   "source": [
    "## Final Project Assignment\n",
    "\n",
    "#### Goal\n",
    "\n",
    "1) The goal is too ask any question yourself and answer it\n",
    "\n",
    "2) Keep the scope is small\n",
    "\n",
    "************\n",
    "#### My question for myself\n",
    "\n",
    "1) On average, how much time do I spend per day on each of my 4 classes?\n",
    "\n",
    "2) Also how much time do I spend outside of school during each day?\n",
    "\n",
    "3) Do I spend more time each day doing school work or non-school stuff?\n",
    "\n",
    "************\n",
    "#### How I went about this project\n",
    "\n",
    "1) For my project, I recorded the amount of time I spent on each class for 7 straight days\n",
    "\n",
    "2) I also recorded how much time I spent outside of school stuff (Other section)\n",
    "\n",
    "3) I then calculated the average Study Hrs/week for each of the 4 classes and other section and plotted it"
   ]
  },
  {
   "cell_type": "code",
   "execution_count": 11,
   "metadata": {},
   "outputs": [
    {
     "data": {
      "text/html": [
       "<table border=\"1\" class=\"dataframe\">\n",
       "    <thead>\n",
       "        <tr>\n",
       "            <th>course</th> <th>Study Hrs/day</th>\n",
       "        </tr>\n",
       "    </thead>\n",
       "    <tbody>\n",
       "        <tr>\n",
       "            <td>DSC30 </td> <td>2            </td>\n",
       "        </tr>\n",
       "        <tr>\n",
       "            <td>DSC30 </td> <td>3            </td>\n",
       "        </tr>\n",
       "        <tr>\n",
       "            <td>DSC30 </td> <td>2            </td>\n",
       "        </tr>\n",
       "        <tr>\n",
       "            <td>DSC30 </td> <td>2.5          </td>\n",
       "        </tr>\n",
       "        <tr>\n",
       "            <td>DSC30 </td> <td>2.75         </td>\n",
       "        </tr>\n",
       "        <tr>\n",
       "            <td>DSC30 </td> <td>2.5          </td>\n",
       "        </tr>\n",
       "        <tr>\n",
       "            <td>DSC30 </td> <td>4            </td>\n",
       "        </tr>\n",
       "        <tr>\n",
       "            <td>CAT3  </td> <td>1.5          </td>\n",
       "        </tr>\n",
       "        <tr>\n",
       "            <td>CAT3  </td> <td>1            </td>\n",
       "        </tr>\n",
       "        <tr>\n",
       "            <td>CAT3  </td> <td>1.75         </td>\n",
       "        </tr>\n",
       "        <tr>\n",
       "            <td>CAT3  </td> <td>2            </td>\n",
       "        </tr>\n",
       "        <tr>\n",
       "            <td>CAT3  </td> <td>0.75         </td>\n",
       "        </tr>\n",
       "        <tr>\n",
       "            <td>CAT3  </td> <td>1.25         </td>\n",
       "        </tr>\n",
       "        <tr>\n",
       "            <td>CAT3  </td> <td>2.5          </td>\n",
       "        </tr>\n",
       "        <tr>\n",
       "            <td>DSC96 </td> <td>2            </td>\n",
       "        </tr>\n",
       "        <tr>\n",
       "            <td>DSC96 </td> <td>1.5          </td>\n",
       "        </tr>\n",
       "        <tr>\n",
       "            <td>DSC96 </td> <td>2.25         </td>\n",
       "        </tr>\n",
       "        <tr>\n",
       "            <td>DSC96 </td> <td>1            </td>\n",
       "        </tr>\n",
       "        <tr>\n",
       "            <td>DSC96 </td> <td>1.75         </td>\n",
       "        </tr>\n",
       "        <tr>\n",
       "            <td>DSC96 </td> <td>1            </td>\n",
       "        </tr>\n",
       "        <tr>\n",
       "            <td>DSC96 </td> <td>2            </td>\n",
       "        </tr>\n",
       "        <tr>\n",
       "            <td>PHYS2A</td> <td>4            </td>\n",
       "        </tr>\n",
       "        <tr>\n",
       "            <td>PHYS2A</td> <td>2            </td>\n",
       "        </tr>\n",
       "        <tr>\n",
       "            <td>PHYS2A</td> <td>1.75         </td>\n",
       "        </tr>\n",
       "        <tr>\n",
       "            <td>PHYS2A</td> <td>1.5          </td>\n",
       "        </tr>\n",
       "        <tr>\n",
       "            <td>PHYS2A</td> <td>2            </td>\n",
       "        </tr>\n",
       "        <tr>\n",
       "            <td>PHYS2A</td> <td>2.25         </td>\n",
       "        </tr>\n",
       "        <tr>\n",
       "            <td>PHYS2A</td> <td>3            </td>\n",
       "        </tr>\n",
       "        <tr>\n",
       "            <td>Other </td> <td>4.5          </td>\n",
       "        </tr>\n",
       "        <tr>\n",
       "            <td>Other </td> <td>6.5          </td>\n",
       "        </tr>\n",
       "        <tr>\n",
       "            <td>Other </td> <td>5.25         </td>\n",
       "        </tr>\n",
       "        <tr>\n",
       "            <td>Other </td> <td>7            </td>\n",
       "        </tr>\n",
       "        <tr>\n",
       "            <td>Other </td> <td>7.25         </td>\n",
       "        </tr>\n",
       "        <tr>\n",
       "            <td>Other </td> <td>7            </td>\n",
       "        </tr>\n",
       "        <tr>\n",
       "            <td>Other </td> <td>1.5          </td>\n",
       "        </tr>\n",
       "    </tbody>\n",
       "</table>"
      ],
      "text/plain": [
       "<IPython.core.display.HTML object>"
      ]
     },
     "metadata": {},
     "output_type": "display_data"
    }
   ],
   "source": [
    "## I first read all the data into a table\n",
    "hours = Table().read_table(\"data/hours.csv\", index_col = 0)\n",
    "hours.show(35)"
   ]
  },
  {
   "cell_type": "code",
   "execution_count": 14,
   "metadata": {},
   "outputs": [
    {
     "data": {
      "text/html": [
       "<table border=\"1\" class=\"dataframe\">\n",
       "    <thead>\n",
       "        <tr>\n",
       "            <th>course</th> <th>Study Hrs/day sum</th>\n",
       "        </tr>\n",
       "    </thead>\n",
       "    <tbody>\n",
       "        <tr>\n",
       "            <td>Other </td> <td>39               </td>\n",
       "        </tr>\n",
       "        <tr>\n",
       "            <td>DSC30 </td> <td>18.75            </td>\n",
       "        </tr>\n",
       "        <tr>\n",
       "            <td>PHYS2A</td> <td>16.5             </td>\n",
       "        </tr>\n",
       "        <tr>\n",
       "            <td>DSC96 </td> <td>11.5             </td>\n",
       "        </tr>\n",
       "        <tr>\n",
       "            <td>CAT3  </td> <td>10.75            </td>\n",
       "        </tr>\n",
       "    </tbody>\n",
       "</table>"
      ],
      "text/plain": [
       "course | Study Hrs/day sum\n",
       "Other  | 39\n",
       "DSC30  | 18.75\n",
       "PHYS2A | 16.5\n",
       "DSC96  | 11.5\n",
       "CAT3   | 10.75"
      ]
     },
     "execution_count": 14,
     "metadata": {},
     "output_type": "execute_result"
    }
   ],
   "source": [
    "## I then got the sum of total hours spent in a week for each section and sorted it \n",
    "total_hour_count = hours.group(\"course\", np.sum).sort(\"Study Hrs/day sum\",descending = True)\n",
    "total_hour_count"
   ]
  },
  {
   "cell_type": "code",
   "execution_count": 7,
   "metadata": {},
   "outputs": [
    {
     "data": {
      "text/html": [
       "<table border=\"1\" class=\"dataframe\">\n",
       "    <thead>\n",
       "        <tr>\n",
       "            <th>course</th> <th>Study Hrs/day mean</th>\n",
       "        </tr>\n",
       "    </thead>\n",
       "    <tbody>\n",
       "        <tr>\n",
       "            <td>CAT3  </td> <td>1.53571           </td>\n",
       "        </tr>\n",
       "        <tr>\n",
       "            <td>DSC30 </td> <td>2.67857           </td>\n",
       "        </tr>\n",
       "        <tr>\n",
       "            <td>DSC96 </td> <td>1.64286           </td>\n",
       "        </tr>\n",
       "        <tr>\n",
       "            <td>Other </td> <td>5.57143           </td>\n",
       "        </tr>\n",
       "        <tr>\n",
       "            <td>PHYS2A</td> <td>2.35714           </td>\n",
       "        </tr>\n",
       "    </tbody>\n",
       "</table>"
      ],
      "text/plain": [
       "course | Study Hrs/day mean\n",
       "CAT3   | 1.53571\n",
       "DSC30  | 2.67857\n",
       "DSC96  | 1.64286\n",
       "Other  | 5.57143\n",
       "PHYS2A | 2.35714"
      ]
     },
     "execution_count": 7,
     "metadata": {},
     "output_type": "execute_result"
    }
   ],
   "source": [
    "# I then calculate the average mean for time spent per day for each section\n",
    "mean = hours.group(\"course\", np.mean)\n",
    "mean"
   ]
  },
  {
   "cell_type": "code",
   "execution_count": 8,
   "metadata": {},
   "outputs": [
    {
     "data": {
      "text/html": [
       "<table border=\"1\" class=\"dataframe\">\n",
       "    <thead>\n",
       "        <tr>\n",
       "            <th>course</th> <th>Study Hrs/day mean</th>\n",
       "        </tr>\n",
       "    </thead>\n",
       "    <tbody>\n",
       "        <tr>\n",
       "            <td>Other </td> <td>5.57143           </td>\n",
       "        </tr>\n",
       "        <tr>\n",
       "            <td>DSC30 </td> <td>2.67857           </td>\n",
       "        </tr>\n",
       "        <tr>\n",
       "            <td>PHYS2A</td> <td>2.35714           </td>\n",
       "        </tr>\n",
       "        <tr>\n",
       "            <td>DSC96 </td> <td>1.64286           </td>\n",
       "        </tr>\n",
       "        <tr>\n",
       "            <td>CAT3  </td> <td>1.53571           </td>\n",
       "        </tr>\n",
       "    </tbody>\n",
       "</table>"
      ],
      "text/plain": [
       "course | Study Hrs/day mean\n",
       "Other  | 5.57143\n",
       "DSC30  | 2.67857\n",
       "PHYS2A | 2.35714\n",
       "DSC96  | 1.64286\n",
       "CAT3   | 1.53571"
      ]
     },
     "execution_count": 8,
     "metadata": {},
     "output_type": "execute_result"
    }
   ],
   "source": [
    "# Sorted it\n",
    "mean = mean.sort(\"Study Hrs/day mean\",descending = True)\n",
    "mean"
   ]
  },
  {
   "cell_type": "code",
   "execution_count": 9,
   "metadata": {},
   "outputs": [
    {
     "data": {
      "text/plain": [
       "-2.642857142857144"
      ]
     },
     "execution_count": 9,
     "metadata": {},
     "output_type": "execute_result"
    }
   ],
   "source": [
    "## I did this calculation to find the difference in time for school work - non-school work\n",
    "## I figured out that I spent 2.6 more hours per day doing non-school work\n",
    "difference = mean.column(\"Study Hrs/day mean\")[0] - (mean.column(\"Study Hrs/day mean\")[1] + mean.column(\"Study Hrs/day mean\")[2] + mean.column(\"Study Hrs/day mean\")[3] + mean.column(\"Study Hrs/day mean\")[4])\n",
    "difference"
   ]
  },
  {
   "cell_type": "code",
   "execution_count": 15,
   "metadata": {},
   "outputs": [
    {
     "data": {
      "image/png": "[encoded data removed]",
      "text/plain": [
       "<Figure size 432x288 with 1 Axes>"
      ]
     },
     "metadata": {
      "needs_background": "light"
     },
     "output_type": "display_data"
    }
   ],
   "source": [
    "## I made a bar plot which plotted each course against Study Hrs/day mean\n",
    "mean.bar(\"course\")"
   ]
  },
  {
   "cell_type": "code",
   "execution_count": 16,
   "metadata": {},
   "outputs": [],
   "source": [
    "## Conclusion\n",
    "## I found out that I spend 2.6 more hours per day doing non-school work than school wokr\n",
    "## I also figured out that I spend the most time on DSC30 and the least time on CAT3\n",
    "## Finally, I also found out that I spend around 8 hours per day (including class time) doing school work"
   ]
  }
 ],
 "metadata": {
  "kernelspec": {
   "display_name": "Python 3",
   "language": "python",
   "name": "python3"
  },
  "language_info": {
   "codemirror_mode": {
    "name": "ipython",
    "version": 3
   },
   "file_extension": ".py",
   "mimetype": "text/x-python",
   "name": "python",
   "nbconvert_exporter": "python",
   "pygments_lexer": "ipython3",
   "version": "3.6.7"
  }
 },
 "nbformat": 4,
 "nbformat_minor": 1
}
